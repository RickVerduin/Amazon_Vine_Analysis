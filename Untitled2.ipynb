{
  "nbformat": 4,
  "nbformat_minor": 0,
  "metadata": {
    "colab": {
      "name": "Untitled2.ipynb",
      "provenance": [],
      "authorship_tag": "ABX9TyOlUSAR9rM37JB3Rhi8yNbv",
      "include_colab_link": true
    },
    "kernelspec": {
      "name": "python3",
      "display_name": "Python 3"
    },
    "language_info": {
      "name": "python"
    }
  },
  "cells": [
    {
      "cell_type": "markdown",
      "metadata": {
        "id": "view-in-github",
        "colab_type": "text"
      },
      "source": [
        "<a href=\"https://colab.research.google.com/github/RickVerduin/Amazon_Vine_Analysis/blob/main/Untitled2.ipynb\" target=\"_parent\"><img src=\"https://colab.research.google.com/assets/colab-badge.svg\" alt=\"Open In Colab\"/></a>"
      ]
    },
    {
      "cell_type": "code",
      "execution_count": 1,
      "metadata": {
        "id": "oHsyOseF30o0"
      },
      "outputs": [],
      "source": [
        "#import dependencies\n",
        "import tensorflow as tf\n",
        "import numpy as np\n",
        "import os"
      ]
    },
    {
      "cell_type": "code",
      "source": [
        "# Import text\n",
        "# text = path"
      ],
      "metadata": {
        "id": "83Kvm3Q94HzM"
      },
      "execution_count": null,
      "outputs": []
    },
    {
      "cell_type": "code",
      "source": [
        "#Get unique caracters in text\n",
        "vocab = sorted(set(text))"
      ],
      "metadata": {
        "id": "Ai8k45Jo8HLn"
      },
      "execution_count": null,
      "outputs": []
    },
    {
      "cell_type": "code",
      "source": [
        "#Create character to index conversion and back, and assign index values to text     \n",
        "char_to_idx = {u:i for i, u in enumerate(vocab)}\n",
        "idx_to_char = np.array(vocab)\n",
        "text_as_int = np.array([char_to_idx[char] for char in text])"
      ],
      "metadata": {
        "id": "1W88V8Sz8LYZ"
      },
      "execution_count": null,
      "outputs": []
    },
    {
      "cell_type": "code",
      "source": [
        "#Create dataset batches\n",
        "dataset = tf.data.Dataset.from_tensor_slices(text_as_int)\n",
        "seq_length = 200\n",
        "examples_per_epoch = len(text)//(seq_length+1)\n",
        "sequences = dataset.batch(seq_length+1, drop_remainder = True)"
      ],
      "metadata": {
        "id": "bYdwa1py9hEf"
      },
      "execution_count": null,
      "outputs": []
    },
    {
      "cell_type": "code",
      "source": [
        "def split_input_target(chunk):\n",
        "  input = chunk[:-1]\n",
        "  target = chunk[1:]\n",
        "  return input, target\n",
        "\n",
        "data = sequences.map(split_input_target)"
      ],
      "metadata": {
        "id": "wTLSW56p_xfX"
      },
      "execution_count": null,
      "outputs": []
    },
    {
      "cell_type": "code",
      "source": [
        "buffer_size = 10000\n",
        "batch_size = 4\n",
        "data = data.shuffle(buffer_size).batch(batch_size, drop_remainder=True)"
      ],
      "metadata": {
        "id": "RAEZ96UFBvGD"
      },
      "execution_count": null,
      "outputs": []
    }
  ]
}